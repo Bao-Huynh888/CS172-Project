{
 "cells": [
  {
   "cell_type": "code",
   "execution_count": null,
   "id": "ed48b467-be39-4f41-a2f1-3877e8eb1ac7",
   "metadata": {},
   "outputs": [],
   "source": [
    "pip install praw"
   ]
  },
  {
   "cell_type": "code",
   "execution_count": null,
   "id": "be8fbf55-7940-4739-90eb-3121c8d16b6f",
   "metadata": {},
   "outputs": [],
   "source": [
    "import praw\n",
    "import requests\n",
    "from bs4 import BeautifulSoup\n",
    "import json\n",
    "import os\n",
    "\n",
    "#Initializing Reddit API\n",
    "reddit = praw.Reddit(\n",
    "    client_id=\"VlaZdnwb9BdcthBBB6hdRw\",\n",
    "    client_secret=\"TuEsRYMRxDKj2MdV0rrWDr4lLuIkDA\",\n",
    "    password=\"CS172Project\",\n",
    "    user_agent=True,\n",
    "    username=\"Slight_Ad3391\",\n",
    ")\n",
    "\n",
    "def get_title_from_url(url):\n",
    "    try:\n",
    "        response = requests.get(url)\n",
    "        soup = BeautifulSoup(response.text, 'html.paser')\n",
    "        return soup.title.text.strip()\n",
    "    except Exception as e:\n",
    "        print(\"Error fetching title:\", e)\n",
    "        return None\n",
    "    \n",
    "#Function to process Reddit posts\n",
    "def process_post(post):\n",
    "    data = {\n",
    "        \"title\": post.title,\n",
    "        \"author\": post.author.name if post.author else \"[deleted]\",\n",
    "        \"url\": post.url\n",
    "    }\n",
    "    if \"reddit.com\" not in post.url and post.url.endswith(\".html\"):\n",
    "        data[\"html_title\"] = get_title_from_url(post.url)\n",
    "    return data\n",
    "\n",
    "def crawl_reddit(subreddit_name, output_file, max_size = 500):\n",
    "    visited_Ids = set()\n",
    "    with open(output_file, 'a') as f:\n",
    "        total_size = os.path.getsize(output_file)\n",
    "        subreddit = reddit.subreddit(subreddit_name)\n",
    "        for post in subreddit.new(limit=None):\n",
    "            if post.id in visited_Ids:\n",
    "                continue\n",
    "            post_data = process_post(post)\n",
    "            json.dump(post_data, f)\n",
    "            f.write('\\n')\n",
    "            visited_Ids.add(post.id)\n",
    "            #checking file size\n",
    "            total_size = os.path.getsize(output_file)\n",
    "            if total_size > max_size * 1024 * 1024:\n",
    "                break\n",
    "\n",
    "#Main function\n",
    "if __name__ == \"__main__\":\n",
    "    subreddit_name = \"ucr\"\n",
    "    output_file = \"reddit_posts_ucr.json\"\n",
    "    try:\n",
    "        crawl_reddit(subreddit_name, output_file)\n",
    "        print(\"Crawling completed successfully.\")\n",
    "    except Exception as e:\n",
    "        print(\"Error:\", e)"
   ]
  },
  {
   "cell_type": "code",
   "execution_count": null,
   "id": "efbfb6e4-bc5a-47f1-86b0-7a78ba3d04d3",
   "metadata": {},
   "outputs": [],
   "source": []
  }
 ],
 "metadata": {
  "kernelspec": {
   "display_name": "Python 3 (ipykernel)",
   "language": "python",
   "name": "python3"
  },
  "language_info": {
   "codemirror_mode": {
    "name": "ipython",
    "version": 3
   },
   "file_extension": ".py",
   "mimetype": "text/x-python",
   "name": "python",
   "nbconvert_exporter": "python",
   "pygments_lexer": "ipython3",
   "version": "3.8.10"
  }
 },
 "nbformat": 4,
 "nbformat_minor": 5
}
